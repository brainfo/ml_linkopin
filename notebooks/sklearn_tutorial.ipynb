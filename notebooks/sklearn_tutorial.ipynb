{
 "cells": [
  {
   "attachments": {},
   "cell_type": "markdown",
   "metadata": {},
   "source": [
    "## target\n",
    "label values"
   ]
  },
  {
   "attachments": {},
   "cell_type": "markdown",
   "metadata": {},
   "source": [
    "## Model estimator\n",
    "An estimator is any object that learns from data; it may be a classification, regression or clustering algorithm or a transformer that extracts/filters useful features from raw data.\n",
    "All estimator objects expose a fit method that takes a dataset (usually a 2-d array):\n",
    "```{py}\n",
    "estimator.fit(data)\n",
    "```\n",
    "Estimator parameters *(pre-specified in the learned model)*: All the parameters of an estimator can be set when it is instantiated or by modifying the corresponding attribute:\n",
    "```{py}\n",
    "estimator = Estimator(param1=1, param2=2) ## class with specified attr\n",
    "estimator.param1\n",
    "```\n",
    "Estimated parameters *(learned from the data)*: When data is fitted with an estimator, parameters are estimated from the data at hand. All the estimated parameters are attributes of the estimator object ending by an underscore:\n",
    "```{py}\n",
    "estimator.estimated_param_ \n",
    "```"
   ]
  },
  {
   "attachments": {},
   "cell_type": "markdown",
   "metadata": {},
   "source": [
    "## Score\n",
    "every estimator exposes a score method that can judge the **quality of the fit (or the prediction) on new data**. Bigger is better.  \n",
    "*inherit*\n",
    "> how exact is this score computed\n",
    "```py\n",
    "from sklearn import datasets, svm\n",
    "X_digits, y_digits = datasets.load_digits(return_X_y=True)\n",
    "svc = svm.SVC(C=1, kernel='linear')\n",
    "svc.fit(X_digits[:-100], y_digits[:-100]).score(X_digits[-100:], y_digits[-100:])\n",
    "```"
   ]
  },
  {
   "attachments": {},
   "cell_type": "markdown",
   "metadata": {},
   "source": [
    "## Grid search\n",
    "*search the parameter space to optimize cross-validation*  \n",
    "scikit-learn provides an object that, given data, computes the score during the fit of an estimator on a parameter grid and chooses the parameters to maximize the cross-validation score. \n",
    "```py\n",
    "from sklearn.model_selection import GridSearchCV, cross_val_score\n",
    "Cs = np.logspace(-6, -1, 10)\n",
    "clf = GridSearchCV(estimator=svc, param_grid=dict(C=Cs),\n",
    "                    n_jobs=-1) ## dict for multiple parameters\n",
    "clf.fit(X_digits[:1000], y_digits[:1000])        \n",
    "GridSearchCV(cv=None,...\n",
    "clf.best_score_                                  \n",
    "0.925...\n",
    "clf.best_estimator_.C                            \n",
    "0.0077...\n",
    "\n",
    "# Prediction performance on test set is not as good as on train set\n",
    "clf.score(X_digits[1000:], y_digits[1000:])      \n",
    "0.943...\n",
    "```"
   ]
  },
  {
   "cell_type": "code",
   "execution_count": null,
   "metadata": {
    "vscode": {
     "languageId": "plaintext"
    }
   },
   "outputs": [],
   "source": []
  },
  {
   "cell_type": "markdown",
   "metadata": {},
   "source": []
  }
 ],
 "metadata": {
  "language_info": {
   "name": "python"
  },
  "orig_nbformat": 4
 },
 "nbformat": 4,
 "nbformat_minor": 2
}
